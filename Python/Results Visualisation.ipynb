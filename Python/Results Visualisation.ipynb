{
 "cells": [
  {
   "cell_type": "markdown",
   "id": "5e9b10ea",
   "metadata": {},
   "source": [
    "<h1> Processing and Visualisation of results </h1>"
   ]
  },
  {
   "cell_type": "code",
   "execution_count": 2,
   "id": "24eee2ad",
   "metadata": {},
   "outputs": [],
   "source": [
    "import pandas as pd\n",
    "import matplotlib.pyplot as plt\n",
    "import numpy as np\n",
    "from collections import defaultdict"
   ]
  },
  {
   "cell_type": "code",
   "execution_count": 3,
   "id": "603370e9",
   "metadata": {},
   "outputs": [],
   "source": [
    "hto_results = pd.read_csv(\"/Users/mylenemarianagonzalesandre/Development/Bachelor-Thesis/demultiplex-pipeline/results/results.csv\")"
   ]
  },
  {
   "cell_type": "code",
   "execution_count": 4,
   "id": "c170ae85",
   "metadata": {},
   "outputs": [],
   "source": [
    "hto_results.columns = [\"hashtag\",\"classification\"]"
   ]
  },
  {
   "cell_type": "code",
   "execution_count": 5,
   "id": "51093629",
   "metadata": {},
   "outputs": [
    {
     "data": {
      "text/html": [
       "<div>\n",
       "<style scoped>\n",
       "    .dataframe tbody tr th:only-of-type {\n",
       "        vertical-align: middle;\n",
       "    }\n",
       "\n",
       "    .dataframe tbody tr th {\n",
       "        vertical-align: top;\n",
       "    }\n",
       "\n",
       "    .dataframe thead th {\n",
       "        text-align: right;\n",
       "    }\n",
       "</style>\n",
       "<table border=\"1\" class=\"dataframe\">\n",
       "  <thead>\n",
       "    <tr style=\"text-align: right;\">\n",
       "      <th></th>\n",
       "      <th>hashtag</th>\n",
       "      <th>classification</th>\n",
       "    </tr>\n",
       "  </thead>\n",
       "  <tbody>\n",
       "    <tr>\n",
       "      <th>0</th>\n",
       "      <td>AGGCCACAGCGTCTAT</td>\n",
       "      <td>Singlet</td>\n",
       "    </tr>\n",
       "    <tr>\n",
       "      <th>1</th>\n",
       "      <td>ATTGGTGAGTTCGCAT</td>\n",
       "      <td>Doublet</td>\n",
       "    </tr>\n",
       "    <tr>\n",
       "      <th>2</th>\n",
       "      <td>GTGCAGCTCAGTCCCT</td>\n",
       "      <td>Singlet</td>\n",
       "    </tr>\n",
       "    <tr>\n",
       "      <th>3</th>\n",
       "      <td>TAGTTGGGTCATACTG</td>\n",
       "      <td>Singlet</td>\n",
       "    </tr>\n",
       "    <tr>\n",
       "      <th>4</th>\n",
       "      <td>TTCTTAGAGAAGGCCT</td>\n",
       "      <td>Singlet</td>\n",
       "    </tr>\n",
       "  </tbody>\n",
       "</table>\n",
       "</div>"
      ],
      "text/plain": [
       "            hashtag classification\n",
       "0  AGGCCACAGCGTCTAT        Singlet\n",
       "1  ATTGGTGAGTTCGCAT        Doublet\n",
       "2  GTGCAGCTCAGTCCCT        Singlet\n",
       "3  TAGTTGGGTCATACTG        Singlet\n",
       "4  TTCTTAGAGAAGGCCT        Singlet"
      ]
     },
     "execution_count": 5,
     "metadata": {},
     "output_type": "execute_result"
    }
   ],
   "source": [
    "hto_results.head()"
   ]
  },
  {
   "cell_type": "code",
   "execution_count": 6,
   "id": "3018110f",
   "metadata": {},
   "outputs": [],
   "source": [
    "htoDemul = hto_results['classification'].value_counts()"
   ]
  },
  {
   "cell_type": "code",
   "execution_count": 7,
   "id": "3e71cbb6",
   "metadata": {},
   "outputs": [],
   "source": [
    "htoDemul_dict = htoDemul.to_dict()\n"
   ]
  },
  {
   "cell_type": "code",
   "execution_count": 8,
   "id": "f3746170",
   "metadata": {},
   "outputs": [
    {
     "data": {
      "text/plain": [
       "{'Singlet': 13900, 'Doublet': 2433, 'Negative': 583, 'Algorithm': 'HTODemul'}"
      ]
     },
     "execution_count": 8,
     "metadata": {},
     "output_type": "execute_result"
    }
   ],
   "source": [
    "htoDemul_dict['Algorithm'] = \"HTODemul\"\n",
    "htoDemul_dict"
   ]
  },
  {
   "cell_type": "code",
   "execution_count": 9,
   "id": "70b23c4e",
   "metadata": {},
   "outputs": [],
   "source": [
    "multi_results = pd.read_csv(\"/Users/mylenemarianagonzalesandre/Development/Bachelor-Thesis/demultiplex-pipeline/results/multiseq-result.csv\")"
   ]
  },
  {
   "cell_type": "code",
   "execution_count": 10,
   "id": "87da61ea",
   "metadata": {},
   "outputs": [],
   "source": [
    "multi_results.columns = [\"hashtag\",\"classification\"]"
   ]
  },
  {
   "cell_type": "code",
   "execution_count": 11,
   "id": "44aa2103",
   "metadata": {},
   "outputs": [
    {
     "data": {
      "text/html": [
       "<div>\n",
       "<style scoped>\n",
       "    .dataframe tbody tr th:only-of-type {\n",
       "        vertical-align: middle;\n",
       "    }\n",
       "\n",
       "    .dataframe tbody tr th {\n",
       "        vertical-align: top;\n",
       "    }\n",
       "\n",
       "    .dataframe thead th {\n",
       "        text-align: right;\n",
       "    }\n",
       "</style>\n",
       "<table border=\"1\" class=\"dataframe\">\n",
       "  <thead>\n",
       "    <tr style=\"text-align: right;\">\n",
       "      <th></th>\n",
       "      <th>hashtag</th>\n",
       "      <th>classification</th>\n",
       "    </tr>\n",
       "  </thead>\n",
       "  <tbody>\n",
       "    <tr>\n",
       "      <th>0</th>\n",
       "      <td>AGGCCACAGCGTCTAT</td>\n",
       "      <td>HTO-H</td>\n",
       "    </tr>\n",
       "    <tr>\n",
       "      <th>1</th>\n",
       "      <td>ATTGGTGAGTTCGCAT</td>\n",
       "      <td>Doublet</td>\n",
       "    </tr>\n",
       "    <tr>\n",
       "      <th>2</th>\n",
       "      <td>GTGCAGCTCAGTCCCT</td>\n",
       "      <td>HTO-H</td>\n",
       "    </tr>\n",
       "    <tr>\n",
       "      <th>3</th>\n",
       "      <td>TAGTTGGGTCATACTG</td>\n",
       "      <td>HTO-H</td>\n",
       "    </tr>\n",
       "    <tr>\n",
       "      <th>4</th>\n",
       "      <td>TTCTTAGAGAAGGCCT</td>\n",
       "      <td>HTO-D</td>\n",
       "    </tr>\n",
       "    <tr>\n",
       "      <th>...</th>\n",
       "      <td>...</td>\n",
       "      <td>...</td>\n",
       "    </tr>\n",
       "    <tr>\n",
       "      <th>16911</th>\n",
       "      <td>AGCGTCGAGTGGGATC</td>\n",
       "      <td>Doublet</td>\n",
       "    </tr>\n",
       "    <tr>\n",
       "      <th>16912</th>\n",
       "      <td>AACACGTGTAGCCTCG</td>\n",
       "      <td>Doublet</td>\n",
       "    </tr>\n",
       "    <tr>\n",
       "      <th>16913</th>\n",
       "      <td>AGCGTCGAGGGCTTCC</td>\n",
       "      <td>Doublet</td>\n",
       "    </tr>\n",
       "    <tr>\n",
       "      <th>16914</th>\n",
       "      <td>GTCGGGTAGCATGGCA</td>\n",
       "      <td>Doublet</td>\n",
       "    </tr>\n",
       "    <tr>\n",
       "      <th>16915</th>\n",
       "      <td>AGCGTCGGTCCAGTAT</td>\n",
       "      <td>Doublet</td>\n",
       "    </tr>\n",
       "  </tbody>\n",
       "</table>\n",
       "<p>16916 rows × 2 columns</p>\n",
       "</div>"
      ],
      "text/plain": [
       "                hashtag classification\n",
       "0      AGGCCACAGCGTCTAT          HTO-H\n",
       "1      ATTGGTGAGTTCGCAT        Doublet\n",
       "2      GTGCAGCTCAGTCCCT          HTO-H\n",
       "3      TAGTTGGGTCATACTG          HTO-H\n",
       "4      TTCTTAGAGAAGGCCT          HTO-D\n",
       "...                 ...            ...\n",
       "16911  AGCGTCGAGTGGGATC        Doublet\n",
       "16912  AACACGTGTAGCCTCG        Doublet\n",
       "16913  AGCGTCGAGGGCTTCC        Doublet\n",
       "16914  GTCGGGTAGCATGGCA        Doublet\n",
       "16915  AGCGTCGGTCCAGTAT        Doublet\n",
       "\n",
       "[16916 rows x 2 columns]"
      ]
     },
     "execution_count": 11,
     "metadata": {},
     "output_type": "execute_result"
    }
   ],
   "source": [
    "multi_results"
   ]
  },
  {
   "cell_type": "code",
   "execution_count": 12,
   "id": "64846a48",
   "metadata": {},
   "outputs": [],
   "source": [
    "multiseq = multi_results['classification'].value_counts()"
   ]
  },
  {
   "cell_type": "code",
   "execution_count": 13,
   "id": "4d6a02f3",
   "metadata": {},
   "outputs": [
    {
     "data": {
      "text/plain": [
       "Doublet    5633\n",
       "HTO-D      1703\n",
       "HTO-B      1668\n",
       "HTO-G      1572\n",
       "HTO-H      1434\n",
       "HTO-E      1268\n",
       "HTO-C      1253\n",
       "HTO-F      1235\n",
       "HTO-A      1150\n",
       "Name: classification, dtype: int64"
      ]
     },
     "execution_count": 13,
     "metadata": {},
     "output_type": "execute_result"
    }
   ],
   "source": [
    "multiseq"
   ]
  },
  {
   "cell_type": "code",
   "execution_count": 14,
   "id": "2fe072c1",
   "metadata": {},
   "outputs": [],
   "source": [
    "multiseq_res_dict = multiseq.to_dict()"
   ]
  },
  {
   "cell_type": "code",
   "execution_count": 15,
   "id": "187a83e6",
   "metadata": {},
   "outputs": [
    {
     "data": {
      "text/plain": [
       "{'Doublet': 5633,\n",
       " 'HTO-D': 1703,\n",
       " 'HTO-B': 1668,\n",
       " 'HTO-G': 1572,\n",
       " 'HTO-H': 1434,\n",
       " 'HTO-E': 1268,\n",
       " 'HTO-C': 1253,\n",
       " 'HTO-F': 1235,\n",
       " 'HTO-A': 1150}"
      ]
     },
     "execution_count": 15,
     "metadata": {},
     "output_type": "execute_result"
    }
   ],
   "source": [
    "multiseq_res_dict "
   ]
  },
  {
   "cell_type": "code",
   "execution_count": 16,
   "id": "9c245d3b",
   "metadata": {},
   "outputs": [
    {
     "name": "stderr",
     "output_type": "stream",
     "text": [
      "/var/folders/10/sfmvfl9139b7z3wwbq1j88gr0000gn/T/ipykernel_11672/599037296.py:1: DeprecationWarning: Calling np.sum(generator) is deprecated, and in the future will give a different result. Use np.sum(np.fromiter(generator)) or the python sum builtin instead.\n",
      "  multi_singlets = np.sum(value for key, value in multiseq_res_dict.items() if key != 'Doublet')\n"
     ]
    }
   ],
   "source": [
    "multi_singlets = np.sum(value for key, value in multiseq_res_dict.items() if key != 'Doublet')"
   ]
  },
  {
   "cell_type": "code",
   "execution_count": 17,
   "id": "17788856",
   "metadata": {},
   "outputs": [],
   "source": [
    "multiseq_dict = dict()\n",
    "multiseq_dict['Singlet'] = multi_singlets"
   ]
  },
  {
   "cell_type": "code",
   "execution_count": 18,
   "id": "02bc42d3",
   "metadata": {},
   "outputs": [],
   "source": [
    "multiseq_dict['Doublet'] = multiseq_res_dict['Doublet']"
   ]
  },
  {
   "cell_type": "code",
   "execution_count": 19,
   "id": "657572a5",
   "metadata": {},
   "outputs": [],
   "source": [
    "multiseq_dict['Negative'] = 0"
   ]
  },
  {
   "cell_type": "code",
   "execution_count": 20,
   "id": "c05cdb70",
   "metadata": {},
   "outputs": [],
   "source": [
    "multiseq_dict['Algorithm'] = \"MULTI-Seq\""
   ]
  },
  {
   "cell_type": "code",
   "execution_count": 21,
   "id": "0cf99267",
   "metadata": {},
   "outputs": [
    {
     "data": {
      "text/html": [
       "<div>\n",
       "<style scoped>\n",
       "    .dataframe tbody tr th:only-of-type {\n",
       "        vertical-align: middle;\n",
       "    }\n",
       "\n",
       "    .dataframe tbody tr th {\n",
       "        vertical-align: top;\n",
       "    }\n",
       "\n",
       "    .dataframe thead th {\n",
       "        text-align: right;\n",
       "    }\n",
       "</style>\n",
       "<table border=\"1\" class=\"dataframe\">\n",
       "  <thead>\n",
       "    <tr style=\"text-align: right;\">\n",
       "      <th></th>\n",
       "      <th>Unnamed: 0</th>\n",
       "      <th>Total</th>\n",
       "      <th>Best</th>\n",
       "      <th>Second</th>\n",
       "      <th>LogFC</th>\n",
       "      <th>LogFC2</th>\n",
       "      <th>Doublet</th>\n",
       "      <th>Confident</th>\n",
       "    </tr>\n",
       "  </thead>\n",
       "  <tbody>\n",
       "    <tr>\n",
       "      <th>0</th>\n",
       "      <td>AGGCCACAGCGTCTAT</td>\n",
       "      <td>4200</td>\n",
       "      <td>8</td>\n",
       "      <td>5</td>\n",
       "      <td>8.490503</td>\n",
       "      <td>0.580016</td>\n",
       "      <td>False</td>\n",
       "      <td>True</td>\n",
       "    </tr>\n",
       "    <tr>\n",
       "      <th>1</th>\n",
       "      <td>ATTGGTGAGTTCGCAT</td>\n",
       "      <td>3475</td>\n",
       "      <td>7</td>\n",
       "      <td>8</td>\n",
       "      <td>1.108589</td>\n",
       "      <td>4.124493</td>\n",
       "      <td>True</td>\n",
       "      <td>False</td>\n",
       "    </tr>\n",
       "    <tr>\n",
       "      <th>2</th>\n",
       "      <td>GTGCAGCTCAGTCCCT</td>\n",
       "      <td>1211</td>\n",
       "      <td>8</td>\n",
       "      <td>3</td>\n",
       "      <td>4.443640</td>\n",
       "      <td>1.908259</td>\n",
       "      <td>False</td>\n",
       "      <td>True</td>\n",
       "    </tr>\n",
       "    <tr>\n",
       "      <th>3</th>\n",
       "      <td>TAGTTGGGTCATACTG</td>\n",
       "      <td>955</td>\n",
       "      <td>8</td>\n",
       "      <td>4</td>\n",
       "      <td>4.728427</td>\n",
       "      <td>0.766317</td>\n",
       "      <td>False</td>\n",
       "      <td>True</td>\n",
       "    </tr>\n",
       "    <tr>\n",
       "      <th>4</th>\n",
       "      <td>TTCTTAGAGAAGGCCT</td>\n",
       "      <td>1912</td>\n",
       "      <td>4</td>\n",
       "      <td>2</td>\n",
       "      <td>5.561770</td>\n",
       "      <td>0.973143</td>\n",
       "      <td>False</td>\n",
       "      <td>True</td>\n",
       "    </tr>\n",
       "  </tbody>\n",
       "</table>\n",
       "</div>"
      ],
      "text/plain": [
       "         Unnamed: 0  Total  Best  Second     LogFC    LogFC2  Doublet  \\\n",
       "0  AGGCCACAGCGTCTAT   4200     8       5  8.490503  0.580016    False   \n",
       "1  ATTGGTGAGTTCGCAT   3475     7       8  1.108589  4.124493     True   \n",
       "2  GTGCAGCTCAGTCCCT   1211     8       3  4.443640  1.908259    False   \n",
       "3  TAGTTGGGTCATACTG    955     8       4  4.728427  0.766317    False   \n",
       "4  TTCTTAGAGAAGGCCT   1912     4       2  5.561770  0.973143    False   \n",
       "\n",
       "   Confident  \n",
       "0       True  \n",
       "1      False  \n",
       "2       True  \n",
       "3       True  \n",
       "4       True  "
      ]
     },
     "execution_count": 21,
     "metadata": {},
     "output_type": "execute_result"
    }
   ],
   "source": [
    "hashed_drops = pd.read_csv('/Users/mylenemarianagonzalesandre/Development/Bachelor-Thesis/demultiplex-pipeline/results/HD_results.csv')\n",
    "hashed_drops.head()"
   ]
  },
  {
   "cell_type": "code",
   "execution_count": 22,
   "id": "f1241ca0",
   "metadata": {},
   "outputs": [],
   "source": [
    "#Confident = Singlet\n",
    "#Doublet -> True\n",
    "#Comparar las columnas buscando negativos para encontrar negativos\n",
    "#simplemente resta el total entre estos 2 del total total y tienes los negativos\n",
    "drops_count_singlets = hashed_drops['Confident'].value_counts()\n",
    "drops_count_doublets = hashed_drops['Doublet'].value_counts()\n"
   ]
  },
  {
   "cell_type": "code",
   "execution_count": 23,
   "id": "224c5c6c",
   "metadata": {},
   "outputs": [
    {
     "data": {
      "text/plain": [
       "True     14105\n",
       "False     2811\n",
       "Name: Confident, dtype: int64"
      ]
     },
     "execution_count": 23,
     "metadata": {},
     "output_type": "execute_result"
    }
   ],
   "source": [
    "drops_count_singlets"
   ]
  },
  {
   "cell_type": "code",
   "execution_count": 25,
   "id": "48b852c4",
   "metadata": {},
   "outputs": [
    {
     "data": {
      "text/plain": [
       "False    14442\n",
       "True      2474\n",
       "Name: Doublet, dtype: int64"
      ]
     },
     "execution_count": 25,
     "metadata": {},
     "output_type": "execute_result"
    }
   ],
   "source": [
    "drops_count_doublets\n"
   ]
  },
  {
   "cell_type": "code",
   "execution_count": 26,
   "id": "96557282",
   "metadata": {},
   "outputs": [
    {
     "data": {
      "text/plain": [
       "{False: 14442, True: 2474}"
      ]
     },
     "execution_count": 26,
     "metadata": {},
     "output_type": "execute_result"
    }
   ],
   "source": [
    "drops_count_singlets.to_dict()\n",
    "drops_count_doublets.to_dict()"
   ]
  },
  {
   "cell_type": "code",
   "execution_count": 28,
   "id": "20cf88ef",
   "metadata": {},
   "outputs": [
    {
     "ename": "AttributeError",
     "evalue": "Can only use .str accessor with string values!",
     "output_type": "error",
     "traceback": [
      "\u001b[0;31m---------------------------------------------------------------------------\u001b[0m",
      "\u001b[0;31mAttributeError\u001b[0m                            Traceback (most recent call last)",
      "\u001b[1;32m/Users/mylenemarianagonzalesandre/Development/Bachelor-Thesis/demultiplex-pipeline/Python/Results Visualisation.ipynb Cell 26'\u001b[0m in \u001b[0;36m<cell line: 1>\u001b[0;34m()\u001b[0m\n\u001b[0;32m----> <a href='vscode-notebook-cell:/Users/mylenemarianagonzalesandre/Development/Bachelor-Thesis/demultiplex-pipeline/Python/Results%20Visualisation.ipynb#ch0000032?line=0'>1</a>\u001b[0m total_objects \u001b[39m=\u001b[39m hashed_drops[\u001b[39m'\u001b[39;49m\u001b[39mDoublet\u001b[39;49m\u001b[39m'\u001b[39;49m]\u001b[39m.\u001b[39;49mstr\u001b[39m.\u001b[39mlen()\n\u001b[1;32m      <a href='vscode-notebook-cell:/Users/mylenemarianagonzalesandre/Development/Bachelor-Thesis/demultiplex-pipeline/Python/Results%20Visualisation.ipynb#ch0000032?line=1'>2</a>\u001b[0m total_objects\n",
      "File \u001b[0;32m/opt/anaconda3/envs/demul/lib/python3.9/site-packages/pandas/core/generic.py:5575\u001b[0m, in \u001b[0;36mNDFrame.__getattr__\u001b[0;34m(self, name)\u001b[0m\n\u001b[1;32m   <a href='file:///opt/anaconda3/envs/demul/lib/python3.9/site-packages/pandas/core/generic.py?line=5567'>5568</a>\u001b[0m \u001b[39mif\u001b[39;00m (\n\u001b[1;32m   <a href='file:///opt/anaconda3/envs/demul/lib/python3.9/site-packages/pandas/core/generic.py?line=5568'>5569</a>\u001b[0m     name \u001b[39mnot\u001b[39;00m \u001b[39min\u001b[39;00m \u001b[39mself\u001b[39m\u001b[39m.\u001b[39m_internal_names_set\n\u001b[1;32m   <a href='file:///opt/anaconda3/envs/demul/lib/python3.9/site-packages/pandas/core/generic.py?line=5569'>5570</a>\u001b[0m     \u001b[39mand\u001b[39;00m name \u001b[39mnot\u001b[39;00m \u001b[39min\u001b[39;00m \u001b[39mself\u001b[39m\u001b[39m.\u001b[39m_metadata\n\u001b[1;32m   <a href='file:///opt/anaconda3/envs/demul/lib/python3.9/site-packages/pandas/core/generic.py?line=5570'>5571</a>\u001b[0m     \u001b[39mand\u001b[39;00m name \u001b[39mnot\u001b[39;00m \u001b[39min\u001b[39;00m \u001b[39mself\u001b[39m\u001b[39m.\u001b[39m_accessors\n\u001b[1;32m   <a href='file:///opt/anaconda3/envs/demul/lib/python3.9/site-packages/pandas/core/generic.py?line=5571'>5572</a>\u001b[0m     \u001b[39mand\u001b[39;00m \u001b[39mself\u001b[39m\u001b[39m.\u001b[39m_info_axis\u001b[39m.\u001b[39m_can_hold_identifiers_and_holds_name(name)\n\u001b[1;32m   <a href='file:///opt/anaconda3/envs/demul/lib/python3.9/site-packages/pandas/core/generic.py?line=5572'>5573</a>\u001b[0m ):\n\u001b[1;32m   <a href='file:///opt/anaconda3/envs/demul/lib/python3.9/site-packages/pandas/core/generic.py?line=5573'>5574</a>\u001b[0m     \u001b[39mreturn\u001b[39;00m \u001b[39mself\u001b[39m[name]\n\u001b[0;32m-> <a href='file:///opt/anaconda3/envs/demul/lib/python3.9/site-packages/pandas/core/generic.py?line=5574'>5575</a>\u001b[0m \u001b[39mreturn\u001b[39;00m \u001b[39mobject\u001b[39;49m\u001b[39m.\u001b[39;49m\u001b[39m__getattribute__\u001b[39;49m(\u001b[39mself\u001b[39;49m, name)\n",
      "File \u001b[0;32m/opt/anaconda3/envs/demul/lib/python3.9/site-packages/pandas/core/accessor.py:182\u001b[0m, in \u001b[0;36mCachedAccessor.__get__\u001b[0;34m(self, obj, cls)\u001b[0m\n\u001b[1;32m    <a href='file:///opt/anaconda3/envs/demul/lib/python3.9/site-packages/pandas/core/accessor.py?line=178'>179</a>\u001b[0m \u001b[39mif\u001b[39;00m obj \u001b[39mis\u001b[39;00m \u001b[39mNone\u001b[39;00m:\n\u001b[1;32m    <a href='file:///opt/anaconda3/envs/demul/lib/python3.9/site-packages/pandas/core/accessor.py?line=179'>180</a>\u001b[0m     \u001b[39m# we're accessing the attribute of the class, i.e., Dataset.geo\u001b[39;00m\n\u001b[1;32m    <a href='file:///opt/anaconda3/envs/demul/lib/python3.9/site-packages/pandas/core/accessor.py?line=180'>181</a>\u001b[0m     \u001b[39mreturn\u001b[39;00m \u001b[39mself\u001b[39m\u001b[39m.\u001b[39m_accessor\n\u001b[0;32m--> <a href='file:///opt/anaconda3/envs/demul/lib/python3.9/site-packages/pandas/core/accessor.py?line=181'>182</a>\u001b[0m accessor_obj \u001b[39m=\u001b[39m \u001b[39mself\u001b[39;49m\u001b[39m.\u001b[39;49m_accessor(obj)\n\u001b[1;32m    <a href='file:///opt/anaconda3/envs/demul/lib/python3.9/site-packages/pandas/core/accessor.py?line=182'>183</a>\u001b[0m \u001b[39m# Replace the property with the accessor object. Inspired by:\u001b[39;00m\n\u001b[1;32m    <a href='file:///opt/anaconda3/envs/demul/lib/python3.9/site-packages/pandas/core/accessor.py?line=183'>184</a>\u001b[0m \u001b[39m# https://www.pydanny.com/cached-property.html\u001b[39;00m\n\u001b[1;32m    <a href='file:///opt/anaconda3/envs/demul/lib/python3.9/site-packages/pandas/core/accessor.py?line=184'>185</a>\u001b[0m \u001b[39m# We need to use object.__setattr__ because we overwrite __setattr__ on\u001b[39;00m\n\u001b[1;32m    <a href='file:///opt/anaconda3/envs/demul/lib/python3.9/site-packages/pandas/core/accessor.py?line=185'>186</a>\u001b[0m \u001b[39m# NDFrame\u001b[39;00m\n\u001b[1;32m    <a href='file:///opt/anaconda3/envs/demul/lib/python3.9/site-packages/pandas/core/accessor.py?line=186'>187</a>\u001b[0m \u001b[39mobject\u001b[39m\u001b[39m.\u001b[39m\u001b[39m__setattr__\u001b[39m(obj, \u001b[39mself\u001b[39m\u001b[39m.\u001b[39m_name, accessor_obj)\n",
      "File \u001b[0;32m/opt/anaconda3/envs/demul/lib/python3.9/site-packages/pandas/core/strings/accessor.py:177\u001b[0m, in \u001b[0;36mStringMethods.__init__\u001b[0;34m(self, data)\u001b[0m\n\u001b[1;32m    <a href='file:///opt/anaconda3/envs/demul/lib/python3.9/site-packages/pandas/core/strings/accessor.py?line=173'>174</a>\u001b[0m \u001b[39mdef\u001b[39;00m \u001b[39m__init__\u001b[39m(\u001b[39mself\u001b[39m, data):\n\u001b[1;32m    <a href='file:///opt/anaconda3/envs/demul/lib/python3.9/site-packages/pandas/core/strings/accessor.py?line=174'>175</a>\u001b[0m     \u001b[39mfrom\u001b[39;00m \u001b[39mpandas\u001b[39;00m\u001b[39m.\u001b[39;00m\u001b[39mcore\u001b[39;00m\u001b[39m.\u001b[39;00m\u001b[39marrays\u001b[39;00m\u001b[39m.\u001b[39;00m\u001b[39mstring_\u001b[39;00m \u001b[39mimport\u001b[39;00m StringDtype\n\u001b[0;32m--> <a href='file:///opt/anaconda3/envs/demul/lib/python3.9/site-packages/pandas/core/strings/accessor.py?line=176'>177</a>\u001b[0m     \u001b[39mself\u001b[39m\u001b[39m.\u001b[39m_inferred_dtype \u001b[39m=\u001b[39m \u001b[39mself\u001b[39;49m\u001b[39m.\u001b[39;49m_validate(data)\n\u001b[1;32m    <a href='file:///opt/anaconda3/envs/demul/lib/python3.9/site-packages/pandas/core/strings/accessor.py?line=177'>178</a>\u001b[0m     \u001b[39mself\u001b[39m\u001b[39m.\u001b[39m_is_categorical \u001b[39m=\u001b[39m is_categorical_dtype(data\u001b[39m.\u001b[39mdtype)\n\u001b[1;32m    <a href='file:///opt/anaconda3/envs/demul/lib/python3.9/site-packages/pandas/core/strings/accessor.py?line=178'>179</a>\u001b[0m     \u001b[39mself\u001b[39m\u001b[39m.\u001b[39m_is_string \u001b[39m=\u001b[39m \u001b[39misinstance\u001b[39m(data\u001b[39m.\u001b[39mdtype, StringDtype)\n",
      "File \u001b[0;32m/opt/anaconda3/envs/demul/lib/python3.9/site-packages/pandas/core/strings/accessor.py:231\u001b[0m, in \u001b[0;36mStringMethods._validate\u001b[0;34m(data)\u001b[0m\n\u001b[1;32m    <a href='file:///opt/anaconda3/envs/demul/lib/python3.9/site-packages/pandas/core/strings/accessor.py?line=227'>228</a>\u001b[0m inferred_dtype \u001b[39m=\u001b[39m lib\u001b[39m.\u001b[39minfer_dtype(values, skipna\u001b[39m=\u001b[39m\u001b[39mTrue\u001b[39;00m)\n\u001b[1;32m    <a href='file:///opt/anaconda3/envs/demul/lib/python3.9/site-packages/pandas/core/strings/accessor.py?line=229'>230</a>\u001b[0m \u001b[39mif\u001b[39;00m inferred_dtype \u001b[39mnot\u001b[39;00m \u001b[39min\u001b[39;00m allowed_types:\n\u001b[0;32m--> <a href='file:///opt/anaconda3/envs/demul/lib/python3.9/site-packages/pandas/core/strings/accessor.py?line=230'>231</a>\u001b[0m     \u001b[39mraise\u001b[39;00m \u001b[39mAttributeError\u001b[39;00m(\u001b[39m\"\u001b[39m\u001b[39mCan only use .str accessor with string values!\u001b[39m\u001b[39m\"\u001b[39m)\n\u001b[1;32m    <a href='file:///opt/anaconda3/envs/demul/lib/python3.9/site-packages/pandas/core/strings/accessor.py?line=231'>232</a>\u001b[0m \u001b[39mreturn\u001b[39;00m inferred_dtype\n",
      "\u001b[0;31mAttributeError\u001b[0m: Can only use .str accessor with string values!"
     ]
    }
   ],
   "source": [
    "total_objects = hashed_drops['Doublet'].str.len()\n",
    "total_objects"
   ]
  },
  {
   "cell_type": "code",
   "execution_count": 20,
   "id": "9179df74",
   "metadata": {},
   "outputs": [
    {
     "name": "stdout",
     "output_type": "stream",
     "text": [
      "defaultdict(<class 'list'>, {'Singlet': [13900, 11283], 'Doublet': [2433, 5633], 'Negative': [583, 0], 'Algorithm': ['HTODemul', 'MULTI-Seq']})\n"
     ]
    }
   ],
   "source": [
    "dd = defaultdict(list)\n",
    "for d in (htoDemul_dict, multiseq_dict): # you can list as many input dicts as you want here\n",
    "    for key, value in d.items():\n",
    "        dd[key].append(value)\n",
    "\n",
    "print(dd)"
   ]
  },
  {
   "cell_type": "code",
   "execution_count": 21,
   "id": "67ebf524",
   "metadata": {},
   "outputs": [
    {
     "data": {
      "text/plain": [
       "{'Singlet': [13900, 11283],\n",
       " 'Doublet': [2433, 5633],\n",
       " 'Negative': [583, 0],\n",
       " 'Algorithm': ['HTODemul', 'MULTI-Seq']}"
      ]
     },
     "execution_count": 21,
     "metadata": {},
     "output_type": "execute_result"
    }
   ],
   "source": [
    "dict(dd)"
   ]
  },
  {
   "cell_type": "code",
   "execution_count": 41,
   "id": "3264b514",
   "metadata": {},
   "outputs": [
    {
     "data": {
      "text/plain": [
       "True"
      ]
     },
     "execution_count": 41,
     "metadata": {},
     "output_type": "execute_result"
    }
   ],
   "source": [
    "bool(dict(dd))"
   ]
  },
  {
   "cell_type": "code",
   "execution_count": 22,
   "id": "cf614369",
   "metadata": {},
   "outputs": [],
   "source": [
    "dfObj = pd.DataFrame(dict(dd))"
   ]
  },
  {
   "cell_type": "code",
   "execution_count": 43,
   "id": "1947a907",
   "metadata": {},
   "outputs": [
    {
     "data": {
      "text/html": [
       "<div>\n",
       "<style scoped>\n",
       "    .dataframe tbody tr th:only-of-type {\n",
       "        vertical-align: middle;\n",
       "    }\n",
       "\n",
       "    .dataframe tbody tr th {\n",
       "        vertical-align: top;\n",
       "    }\n",
       "\n",
       "    .dataframe thead th {\n",
       "        text-align: right;\n",
       "    }\n",
       "</style>\n",
       "<table border=\"1\" class=\"dataframe\">\n",
       "  <thead>\n",
       "    <tr style=\"text-align: right;\">\n",
       "      <th></th>\n",
       "      <th>Singlet</th>\n",
       "      <th>Doublet</th>\n",
       "      <th>Negative</th>\n",
       "      <th>Algorithm</th>\n",
       "    </tr>\n",
       "  </thead>\n",
       "  <tbody>\n",
       "    <tr>\n",
       "      <th>0</th>\n",
       "      <td>13900</td>\n",
       "      <td>2433</td>\n",
       "      <td>583</td>\n",
       "      <td>HTODemul</td>\n",
       "    </tr>\n",
       "    <tr>\n",
       "      <th>1</th>\n",
       "      <td>11283</td>\n",
       "      <td>5633</td>\n",
       "      <td>0</td>\n",
       "      <td>MULTI-Seq</td>\n",
       "    </tr>\n",
       "  </tbody>\n",
       "</table>\n",
       "</div>"
      ],
      "text/plain": [
       "   Singlet  Doublet  Negative  Algorithm\n",
       "0    13900     2433       583   HTODemul\n",
       "1    11283     5633         0  MULTI-Seq"
      ]
     },
     "execution_count": 43,
     "metadata": {},
     "output_type": "execute_result"
    }
   ],
   "source": [
    "dfObj"
   ]
  },
  {
   "cell_type": "code",
   "execution_count": 44,
   "id": "73f41c67",
   "metadata": {},
   "outputs": [
    {
     "data": {
      "text/plain": [
       "<AxesSubplot:title={'center':'Hashing Demultiplexing per algorithm'}, xlabel='Algorithm'>"
      ]
     },
     "execution_count": 44,
     "metadata": {},
     "output_type": "execute_result"
    },
    {
     "data": {
      "image/png": "[encoded data removed]",
      "text/plain": [
       "<Figure size 1080x720 with 1 Axes>"
      ]
     },
     "metadata": {
      "needs_background": "light"
     },
     "output_type": "display_data"
    }
   ],
   "source": [
    "dfObj.plot.bar(x='Algorithm', stacked=True,color=[\"#DA4167\",\"#E2B1B1\",\"#258EA6\"], title='Hashing Demultiplexing per algorithm',figsize=(15, 10))\n"
   ]
  },
  {
   "cell_type": "code",
   "execution_count": null,
   "id": "7f7ca771",
   "metadata": {},
   "outputs": [],
   "source": []
  }
 ],
 "metadata": {
  "interpreter": {
   "hash": "b350122b499f0d3c4a3ca61f36ca9d476f0067994eb2fb5b92b0d8496b9dc200"
  },
  "kernelspec": {
   "display_name": "Python 3.9.12 ('demul')",
   "language": "python",
   "name": "python3"
  },
  "language_info": {
   "codemirror_mode": {
    "name": "ipython",
    "version": 3
   },
   "file_extension": ".py",
   "mimetype": "text/x-python",
   "name": "python",
   "nbconvert_exporter": "python",
   "pygments_lexer": "ipython3",
   "version": "3.9.12"
  }
 },
 "nbformat": 4,
 "nbformat_minor": 5
}
