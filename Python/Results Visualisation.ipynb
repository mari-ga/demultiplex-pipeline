{
 "cells": [
  {
   "cell_type": "markdown",
   "id": "5e9b10ea",
   "metadata": {},
   "source": [
    "<h1> Processing and Visualisation of results </h1>"
   ]
  },
  {
   "cell_type": "code",
   "execution_count": 1,
   "id": "24eee2ad",
   "metadata": {},
   "outputs": [],
   "source": [
    "import pandas as pd\n",
    "import matplotlib.pyplot as plt\n",
    "import numpy as np\n",
    "from collections import defaultdict"
   ]
  },
  {
   "cell_type": "code",
   "execution_count": 2,
   "id": "603370e9",
   "metadata": {},
   "outputs": [],
   "source": [
    "hto_results = pd.read_csv(\"/Users/mylenemarianagonzalesandre/Development/Bachelor-Thesis/demultiplex-pipeline/results/results.csv\")"
   ]
  },
  {
   "cell_type": "code",
   "execution_count": 3,
   "id": "c170ae85",
   "metadata": {},
   "outputs": [],
   "source": [
    "hto_results.columns = [\"hashtag\",\"classification\"]"
   ]
  },
  {
   "cell_type": "code",
   "execution_count": 4,
   "id": "51093629",
   "metadata": {},
   "outputs": [
    {
     "data": {
      "text/html": [
       "<div>\n",
       "<style scoped>\n",
       "    .dataframe tbody tr th:only-of-type {\n",
       "        vertical-align: middle;\n",
       "    }\n",
       "\n",
       "    .dataframe tbody tr th {\n",
       "        vertical-align: top;\n",
       "    }\n",
       "\n",
       "    .dataframe thead th {\n",
       "        text-align: right;\n",
       "    }\n",
       "</style>\n",
       "<table border=\"1\" class=\"dataframe\">\n",
       "  <thead>\n",
       "    <tr style=\"text-align: right;\">\n",
       "      <th></th>\n",
       "      <th>hashtag</th>\n",
       "      <th>classification</th>\n",
       "    </tr>\n",
       "  </thead>\n",
       "  <tbody>\n",
       "    <tr>\n",
       "      <th>0</th>\n",
       "      <td>AGGCCACAGCGTCTAT</td>\n",
       "      <td>Singlet</td>\n",
       "    </tr>\n",
       "    <tr>\n",
       "      <th>1</th>\n",
       "      <td>ATTGGTGAGTTCGCAT</td>\n",
       "      <td>Doublet</td>\n",
       "    </tr>\n",
       "    <tr>\n",
       "      <th>2</th>\n",
       "      <td>GTGCAGCTCAGTCCCT</td>\n",
       "      <td>Singlet</td>\n",
       "    </tr>\n",
       "    <tr>\n",
       "      <th>3</th>\n",
       "      <td>TAGTTGGGTCATACTG</td>\n",
       "      <td>Singlet</td>\n",
       "    </tr>\n",
       "    <tr>\n",
       "      <th>4</th>\n",
       "      <td>TTCTTAGAGAAGGCCT</td>\n",
       "      <td>Singlet</td>\n",
       "    </tr>\n",
       "  </tbody>\n",
       "</table>\n",
       "</div>"
      ],
      "text/plain": [
       "            hashtag classification\n",
       "0  AGGCCACAGCGTCTAT        Singlet\n",
       "1  ATTGGTGAGTTCGCAT        Doublet\n",
       "2  GTGCAGCTCAGTCCCT        Singlet\n",
       "3  TAGTTGGGTCATACTG        Singlet\n",
       "4  TTCTTAGAGAAGGCCT        Singlet"
      ]
     },
     "execution_count": 4,
     "metadata": {},
     "output_type": "execute_result"
    }
   ],
   "source": [
    "hto_results.head()"
   ]
  },
  {
   "cell_type": "code",
   "execution_count": 5,
   "id": "3018110f",
   "metadata": {},
   "outputs": [],
   "source": [
    "htoDemul = hto_results['classification'].value_counts()"
   ]
  },
  {
   "cell_type": "code",
   "execution_count": 6,
   "id": "3e71cbb6",
   "metadata": {},
   "outputs": [],
   "source": [
    "htoDemul_dict = htoDemul.to_dict()\n"
   ]
  },
  {
   "cell_type": "code",
   "execution_count": 7,
   "id": "f3746170",
   "metadata": {},
   "outputs": [
    {
     "data": {
      "text/plain": [
       "{'Singlet': 13900, 'Doublet': 2433, 'Negative': 583, 'Algorithm': 'HTODemul'}"
      ]
     },
     "execution_count": 7,
     "metadata": {},
     "output_type": "execute_result"
    }
   ],
   "source": [
    "htoDemul_dict['Algorithm'] = \"HTODemul\"\n",
    "htoDemul_dict"
   ]
  },
  {
   "cell_type": "code",
   "execution_count": 8,
   "id": "70b23c4e",
   "metadata": {},
   "outputs": [],
   "source": [
    "multi_results = pd.read_csv(\"/Users/mylenemarianagonzalesandre/Development/Bachelor-Thesis/demultiplex-pipeline/results/multiseq-result.csv\")"
   ]
  },
  {
   "cell_type": "code",
   "execution_count": 9,
   "id": "87da61ea",
   "metadata": {},
   "outputs": [],
   "source": [
    "multi_results.columns = [\"hashtag\",\"classification\"]"
   ]
  },
  {
   "cell_type": "code",
   "execution_count": 10,
   "id": "44aa2103",
   "metadata": {},
   "outputs": [
    {
     "data": {
      "text/html": [
       "<div>\n",
       "<style scoped>\n",
       "    .dataframe tbody tr th:only-of-type {\n",
       "        vertical-align: middle;\n",
       "    }\n",
       "\n",
       "    .dataframe tbody tr th {\n",
       "        vertical-align: top;\n",
       "    }\n",
       "\n",
       "    .dataframe thead th {\n",
       "        text-align: right;\n",
       "    }\n",
       "</style>\n",
       "<table border=\"1\" class=\"dataframe\">\n",
       "  <thead>\n",
       "    <tr style=\"text-align: right;\">\n",
       "      <th></th>\n",
       "      <th>hashtag</th>\n",
       "      <th>classification</th>\n",
       "    </tr>\n",
       "  </thead>\n",
       "  <tbody>\n",
       "    <tr>\n",
       "      <th>0</th>\n",
       "      <td>AGGCCACAGCGTCTAT</td>\n",
       "      <td>HTO-H</td>\n",
       "    </tr>\n",
       "    <tr>\n",
       "      <th>1</th>\n",
       "      <td>ATTGGTGAGTTCGCAT</td>\n",
       "      <td>Doublet</td>\n",
       "    </tr>\n",
       "    <tr>\n",
       "      <th>2</th>\n",
       "      <td>GTGCAGCTCAGTCCCT</td>\n",
       "      <td>HTO-H</td>\n",
       "    </tr>\n",
       "    <tr>\n",
       "      <th>3</th>\n",
       "      <td>TAGTTGGGTCATACTG</td>\n",
       "      <td>HTO-H</td>\n",
       "    </tr>\n",
       "    <tr>\n",
       "      <th>4</th>\n",
       "      <td>TTCTTAGAGAAGGCCT</td>\n",
       "      <td>HTO-D</td>\n",
       "    </tr>\n",
       "    <tr>\n",
       "      <th>...</th>\n",
       "      <td>...</td>\n",
       "      <td>...</td>\n",
       "    </tr>\n",
       "    <tr>\n",
       "      <th>16911</th>\n",
       "      <td>AGCGTCGAGTGGGATC</td>\n",
       "      <td>Doublet</td>\n",
       "    </tr>\n",
       "    <tr>\n",
       "      <th>16912</th>\n",
       "      <td>AACACGTGTAGCCTCG</td>\n",
       "      <td>Doublet</td>\n",
       "    </tr>\n",
       "    <tr>\n",
       "      <th>16913</th>\n",
       "      <td>AGCGTCGAGGGCTTCC</td>\n",
       "      <td>Doublet</td>\n",
       "    </tr>\n",
       "    <tr>\n",
       "      <th>16914</th>\n",
       "      <td>GTCGGGTAGCATGGCA</td>\n",
       "      <td>Doublet</td>\n",
       "    </tr>\n",
       "    <tr>\n",
       "      <th>16915</th>\n",
       "      <td>AGCGTCGGTCCAGTAT</td>\n",
       "      <td>Doublet</td>\n",
       "    </tr>\n",
       "  </tbody>\n",
       "</table>\n",
       "<p>16916 rows × 2 columns</p>\n",
       "</div>"
      ],
      "text/plain": [
       "                hashtag classification\n",
       "0      AGGCCACAGCGTCTAT          HTO-H\n",
       "1      ATTGGTGAGTTCGCAT        Doublet\n",
       "2      GTGCAGCTCAGTCCCT          HTO-H\n",
       "3      TAGTTGGGTCATACTG          HTO-H\n",
       "4      TTCTTAGAGAAGGCCT          HTO-D\n",
       "...                 ...            ...\n",
       "16911  AGCGTCGAGTGGGATC        Doublet\n",
       "16912  AACACGTGTAGCCTCG        Doublet\n",
       "16913  AGCGTCGAGGGCTTCC        Doublet\n",
       "16914  GTCGGGTAGCATGGCA        Doublet\n",
       "16915  AGCGTCGGTCCAGTAT        Doublet\n",
       "\n",
       "[16916 rows x 2 columns]"
      ]
     },
     "execution_count": 10,
     "metadata": {},
     "output_type": "execute_result"
    }
   ],
   "source": [
    "multi_results"
   ]
  },
  {
   "cell_type": "code",
   "execution_count": 11,
   "id": "64846a48",
   "metadata": {},
   "outputs": [],
   "source": [
    "multiseq = multi_results['classification'].value_counts()"
   ]
  },
  {
   "cell_type": "code",
   "execution_count": 12,
   "id": "4d6a02f3",
   "metadata": {},
   "outputs": [
    {
     "data": {
      "text/plain": [
       "Doublet    5633\n",
       "HTO-D      1703\n",
       "HTO-B      1668\n",
       "HTO-G      1572\n",
       "HTO-H      1434\n",
       "HTO-E      1268\n",
       "HTO-C      1253\n",
       "HTO-F      1235\n",
       "HTO-A      1150\n",
       "Name: classification, dtype: int64"
      ]
     },
     "execution_count": 12,
     "metadata": {},
     "output_type": "execute_result"
    }
   ],
   "source": [
    "multiseq"
   ]
  },
  {
   "cell_type": "code",
   "execution_count": 13,
   "id": "2fe072c1",
   "metadata": {},
   "outputs": [],
   "source": [
    "multiseq_res_dict = multiseq.to_dict()"
   ]
  },
  {
   "cell_type": "code",
   "execution_count": 14,
   "id": "187a83e6",
   "metadata": {},
   "outputs": [
    {
     "data": {
      "text/plain": [
       "{'Doublet': 5633,\n",
       " 'HTO-D': 1703,\n",
       " 'HTO-B': 1668,\n",
       " 'HTO-G': 1572,\n",
       " 'HTO-H': 1434,\n",
       " 'HTO-E': 1268,\n",
       " 'HTO-C': 1253,\n",
       " 'HTO-F': 1235,\n",
       " 'HTO-A': 1150}"
      ]
     },
     "execution_count": 14,
     "metadata": {},
     "output_type": "execute_result"
    }
   ],
   "source": [
    "multiseq_res_dict "
   ]
  },
  {
   "cell_type": "code",
   "execution_count": 15,
   "id": "9c245d3b",
   "metadata": {},
   "outputs": [
    {
     "name": "stderr",
     "output_type": "stream",
     "text": [
      "/var/folders/10/sfmvfl9139b7z3wwbq1j88gr0000gn/T/ipykernel_4866/599037296.py:1: DeprecationWarning: Calling np.sum(generator) is deprecated, and in the future will give a different result. Use np.sum(np.fromiter(generator)) or the python sum builtin instead.\n",
      "  multi_singlets = np.sum(value for key, value in multiseq_res_dict.items() if key != 'Doublet')\n"
     ]
    }
   ],
   "source": [
    "multi_singlets = np.sum(value for key, value in multiseq_res_dict.items() if key != 'Doublet')"
   ]
  },
  {
   "cell_type": "code",
   "execution_count": 16,
   "id": "17788856",
   "metadata": {},
   "outputs": [],
   "source": [
    "multiseq_dict = dict()\n",
    "multiseq_dict['Singlet'] = multi_singlets"
   ]
  },
  {
   "cell_type": "code",
   "execution_count": 17,
   "id": "02bc42d3",
   "metadata": {},
   "outputs": [],
   "source": [
    "multiseq_dict['Doublet'] = multiseq_res_dict['Doublet']"
   ]
  },
  {
   "cell_type": "code",
   "execution_count": 18,
   "id": "657572a5",
   "metadata": {},
   "outputs": [],
   "source": [
    "multiseq_dict['Negative'] = 0"
   ]
  },
  {
   "cell_type": "code",
   "execution_count": 19,
   "id": "c05cdb70",
   "metadata": {},
   "outputs": [],
   "source": [
    "multiseq_dict['Algorithm'] = \"MULTI-Seq\""
   ]
  },
  {
   "cell_type": "code",
   "execution_count": 20,
   "id": "9179df74",
   "metadata": {},
   "outputs": [
    {
     "name": "stdout",
     "output_type": "stream",
     "text": [
      "defaultdict(<class 'list'>, {'Singlet': [13900, 11283], 'Doublet': [2433, 5633], 'Negative': [583, 0], 'Algorithm': ['HTODemul', 'MULTI-Seq']})\n"
     ]
    }
   ],
   "source": [
    "dd = defaultdict(list)\n",
    "for d in (htoDemul_dict, multiseq_dict): # you can list as many input dicts as you want here\n",
    "    for key, value in d.items():\n",
    "        dd[key].append(value)\n",
    "\n",
    "print(dd)"
   ]
  },
  {
   "cell_type": "code",
   "execution_count": 21,
   "id": "67ebf524",
   "metadata": {},
   "outputs": [
    {
     "data": {
      "text/plain": [
       "{'Singlet': [13900, 11283],\n",
       " 'Doublet': [2433, 5633],\n",
       " 'Negative': [583, 0],\n",
       " 'Algorithm': ['HTODemul', 'MULTI-Seq']}"
      ]
     },
     "execution_count": 21,
     "metadata": {},
     "output_type": "execute_result"
    }
   ],
   "source": [
    "dict(dd)"
   ]
  },
  {
   "cell_type": "code",
   "execution_count": 41,
   "id": "3264b514",
   "metadata": {},
   "outputs": [
    {
     "data": {
      "text/plain": [
       "True"
      ]
     },
     "execution_count": 41,
     "metadata": {},
     "output_type": "execute_result"
    }
   ],
   "source": [
    "bool(dict(dd))"
   ]
  },
  {
   "cell_type": "code",
   "execution_count": 22,
   "id": "cf614369",
   "metadata": {},
   "outputs": [],
   "source": [
    "dfObj = pd.DataFrame(dict(dd))"
   ]
  },
  {
   "cell_type": "code",
   "execution_count": 43,
   "id": "1947a907",
   "metadata": {},
   "outputs": [
    {
     "data": {
      "text/html": [
       "<div>\n",
       "<style scoped>\n",
       "    .dataframe tbody tr th:only-of-type {\n",
       "        vertical-align: middle;\n",
       "    }\n",
       "\n",
       "    .dataframe tbody tr th {\n",
       "        vertical-align: top;\n",
       "    }\n",
       "\n",
       "    .dataframe thead th {\n",
       "        text-align: right;\n",
       "    }\n",
       "</style>\n",
       "<table border=\"1\" class=\"dataframe\">\n",
       "  <thead>\n",
       "    <tr style=\"text-align: right;\">\n",
       "      <th></th>\n",
       "      <th>Singlet</th>\n",
       "      <th>Doublet</th>\n",
       "      <th>Negative</th>\n",
       "      <th>Algorithm</th>\n",
       "    </tr>\n",
       "  </thead>\n",
       "  <tbody>\n",
       "    <tr>\n",
       "      <th>0</th>\n",
       "      <td>13900</td>\n",
       "      <td>2433</td>\n",
       "      <td>583</td>\n",
       "      <td>HTODemul</td>\n",
       "    </tr>\n",
       "    <tr>\n",
       "      <th>1</th>\n",
       "      <td>11283</td>\n",
       "      <td>5633</td>\n",
       "      <td>0</td>\n",
       "      <td>MULTI-Seq</td>\n",
       "    </tr>\n",
       "  </tbody>\n",
       "</table>\n",
       "</div>"
      ],
      "text/plain": [
       "   Singlet  Doublet  Negative  Algorithm\n",
       "0    13900     2433       583   HTODemul\n",
       "1    11283     5633         0  MULTI-Seq"
      ]
     },
     "execution_count": 43,
     "metadata": {},
     "output_type": "execute_result"
    }
   ],
   "source": [
    "dfObj"
   ]
  },
  {
   "cell_type": "code",
   "execution_count": 35,
   "id": "73f41c67",
   "metadata": {},
   "outputs": [
    {
     "data": {
      "text/plain": [
       "<AxesSubplot:title={'center':'Hashing Demultiplexing by algorithm'}, xlabel='Algorithm'>"
      ]
     },
     "execution_count": 35,
     "metadata": {},
     "output_type": "execute_result"
    },
    {
     "data": {
      "image/png": "[encoded data removed]",
      "text/plain": [
       "<Figure size 1080x720 with 1 Axes>"
      ]
     },
     "metadata": {
      "needs_background": "light"
     },
     "output_type": "display_data"
    }
   ],
   "source": [
    "dfObj.plot.bar(x='Algorithm', stacked=True,color=[\"#DA4167\",\"#E2B1B1\",\"#258EA6\"], title='Hashing Demultiplexing by algorithm',figsize=(15, 10))\n"
   ]
  },
  {
   "cell_type": "code",
   "execution_count": 36,
   "id": "8ade315d",
   "metadata": {},
   "outputs": [
    {
     "name": "stdout",
     "output_type": "stream",
     "text": [
      "adjustText==0.7.3\n",
      "anndata==0.8.0\n",
      "appnope @ file:///opt/concourse/worker/volumes/live/6ca6f098-d773-4461-5c91-a24a17435bda/volume/appnope_1606859448531/work\n",
      "argon2-cffi @ file:///opt/conda/conda-bld/argon2-cffi_1645000214183/work\n",
      "argon2-cffi-bindings @ file:///opt/concourse/worker/volumes/live/42cf1b28-e71f-45ed-47b2-50f828088636/volume/argon2-cffi-bindings_1644569709119/work\n",
      "asciitree==0.3.3\n",
      "asttokens @ file:///opt/conda/conda-bld/asttokens_1646925590279/work\n",
      "attrs @ file:///opt/conda/conda-bld/attrs_1642510447205/work\n",
      "backcall @ file:///home/ktietz/src/ci/backcall_1611930011877/work\n",
      "beautifulsoup4 @ file:///private/var/folders/sy/f16zz6x50xz3113nwtb9bvq00000gp/T/abs_croot-cdiouih5/beautifulsoup4_1650462164803/work\n",
      "bleach @ file:///opt/conda/conda-bld/bleach_1641577558959/work\n",
      "certifi==2022.5.18.1\n",
      "cffi @ file:///private/var/folders/sy/f16zz6x50xz3113nwtb9bvq00000gp/T/croot-2p6q7e2r/cffi_1642701115063/work\n",
      "click==8.1.3\n",
      "cycler==0.11.0\n",
      "Cython==0.29.30\n",
      "debugpy @ file:///opt/concourse/worker/volumes/live/fb0af3c0-b0a4-42c5-46e7-6ce9c84da602/volume/debugpy_1637091827531/work\n",
      "decorator @ file:///opt/conda/conda-bld/decorator_1643638310831/work\n",
      "defusedxml @ file:///tmp/build/80754af9/defusedxml_1615228127516/work\n",
      "demuxEM==0.1.7\n",
      "docopt==0.6.2\n",
      "entrypoints @ file:///opt/concourse/worker/volumes/live/78b2c4ae-da17-4aa7-7fdc-138f840abf07/volume/entrypoints_1649926486598/work\n",
      "executing @ file:///opt/conda/conda-bld/executing_1646925071911/work\n",
      "fasteners==0.17.3\n",
      "fastjsonschema @ file:///tmp/build/80754af9/python-fastjsonschema_1620414857593/work/dist\n",
      "fonttools==4.33.3\n",
      "h5py==3.7.0\n",
      "hnswlib==0.6.2\n",
      "igraph==0.9.10\n",
      "ipykernel @ file:///opt/concourse/worker/volumes/live/978537e4-0df2-4798-4ef9-a03dcdc32c00/volume/ipykernel_1647000841689/work/dist/ipykernel-6.9.1-py3-none-any.whl\n",
      "ipython @ file:///private/var/folders/sy/f16zz6x50xz3113nwtb9bvq00000gp/T/abs_2ff86d21-7133-4fee-b3b2-6349ba52809eua87k1km/croots/recipe/ipython_1651600160735/work\n",
      "ipython-genutils @ file:///tmp/build/80754af9/ipython_genutils_1606773439826/work\n",
      "jedi @ file:///opt/concourse/worker/volumes/live/89be3eb0-a85c-453b-67dd-f706f2fa4c43/volume/jedi_1644315269953/work\n",
      "Jinja2 @ file:///opt/conda/conda-bld/jinja2_1647436528585/work\n",
      "joblib==1.1.0\n",
      "jsonschema @ file:///opt/concourse/worker/volumes/live/4dfc22c3-c342-49fd-67d7-73b2208a33ed/volume/jsonschema_1650025962276/work\n",
      "jupyter-client @ file:///private/var/folders/sy/f16zz6x50xz3113nwtb9bvq00000gp/T/abs_4d0a367d-74c5-447f-831e-3e1fd3984797bfrg56pj/croots/recipe/jupyter_client_1650622206454/work\n",
      "jupyter-core @ file:///private/var/folders/sy/f16zz6x50xz3113nwtb9bvq00000gp/T/abs_8ba802e0-15f6-4a45-a9ee-144034526783uwxtvvew/croots/recipe/jupyter_core_1651671235924/work\n",
      "jupyterlab-pygments @ file:///tmp/build/80754af9/jupyterlab_pygments_1601490720602/work\n",
      "kiwisolver==1.4.2\n",
      "leidenalg==0.8.10\n",
      "lightgbm==3.3.2\n",
      "llvmlite==0.38.1\n",
      "loompy==3.0.7\n",
      "MarkupSafe @ file:///opt/concourse/worker/volumes/live/1bcf0940-5bf8-4171-61e3-2133f5885e8b/volume/markupsafe_1621528148241/work\n",
      "matplotlib==3.5.2\n",
      "matplotlib-inline @ file:///tmp/build/80754af9/matplotlib-inline_1628242447089/work\n",
      "mistune @ file:///opt/concourse/worker/volumes/live/4217afd5-dad1-438d-6f79-e4992ccda0e5/volume/mistune_1607364880245/work\n",
      "mkl-fft==1.3.1\n",
      "mkl-random @ file:///opt/concourse/worker/volumes/live/0cda23d8-7460-44b2-7e5d-3c76a8a0ca7e/volume/mkl_random_1626186083266/work\n",
      "mkl-service==2.4.0\n",
      "natsort==8.1.0\n",
      "nbclient @ file:///opt/concourse/worker/volumes/live/fcea0efc-2a08-48fd-5c55-85ef78e0ea28/volume/nbclient_1650308406463/work\n",
      "nbconvert @ file:///private/var/folders/sy/f16zz6x50xz3113nwtb9bvq00000gp/T/abs_croot-mv2swkk7/nbconvert_1649751922903/work\n",
      "nbformat @ file:///opt/concourse/worker/volumes/live/e5e6b676-4ecd-4e4b-6788-218f8025991a/volume/nbformat_1649844957789/work\n",
      "nest-asyncio @ file:///opt/concourse/worker/volumes/live/ddf592a1-304c-41a6-6d59-2d4687652b8f/volume/nest-asyncio_1649847942674/work\n",
      "notebook @ file:///private/var/folders/sy/f16zz6x50xz3113nwtb9bvq00000gp/T/abs_f5a41ea2-97a0-4ff3-8669-7d94d31f65f7qv3p8st_/croots/recipe/notebook_1651734546956/work\n",
      "numba==0.55.2\n",
      "numcodecs==0.9.1\n",
      "numpy==1.22.4\n",
      "numpy-groupies==0.9.16\n",
      "packaging @ file:///tmp/build/80754af9/packaging_1637314298585/work\n",
      "pandas==1.4.2\n",
      "pandocfilters @ file:///opt/conda/conda-bld/pandocfilters_1643405455980/work\n",
      "parso @ file:///opt/conda/conda-bld/parso_1641458642106/work\n",
      "patsy==0.5.2\n",
      "pegasusio==0.6.1\n",
      "pegasuspy==1.6.0\n",
      "pexpect @ file:///tmp/build/80754af9/pexpect_1605563209008/work\n",
      "pickleshare @ file:///tmp/build/80754af9/pickleshare_1606932040724/work\n",
      "Pillow==9.1.1\n",
      "prometheus-client @ file:///opt/conda/conda-bld/prometheus_client_1643788673601/work\n",
      "prompt-toolkit @ file:///tmp/build/80754af9/prompt-toolkit_1633440160888/work\n",
      "psutil==5.9.1\n",
      "ptyprocess @ file:///tmp/build/80754af9/ptyprocess_1609355006118/work/dist/ptyprocess-0.7.0-py2.py3-none-any.whl\n",
      "pure-eval @ file:///opt/conda/conda-bld/pure_eval_1646925070566/work\n",
      "pybind11==2.9.2\n",
      "pycparser @ file:///tmp/build/80754af9/pycparser_1636541352034/work\n",
      "Pygments @ file:///opt/conda/conda-bld/pygments_1644249106324/work\n",
      "pynndescent==0.5.7\n",
      "pyparsing==3.0.9\n",
      "pyreadr==0.4.4\n",
      "pyrsistent @ file:///opt/concourse/worker/volumes/live/76cffa60-bd33-4155-4e83-ea03c38b1294/volume/pyrsistent_1636111020441/work\n",
      "python-dateutil @ file:///tmp/build/80754af9/python-dateutil_1626374649649/work\n",
      "python-igraph==0.9.10\n",
      "pytz==2022.1\n",
      "pytz-deprecation-shim==0.1.0.post0\n",
      "pyzmq @ file:///opt/concourse/worker/volumes/live/dbbc086d-2905-496b-54ee-08109e9ced8d/volume/pyzmq_1638435006316/work\n",
      "rpy2==3.5.2\n",
      "scikit-learn==1.1.1\n",
      "scikit-misc==0.1.4\n",
      "scipy==1.8.1\n",
      "seaborn==0.11.2\n",
      "Send2Trash @ file:///tmp/build/80754af9/send2trash_1632406701022/work\n",
      "six @ file:///tmp/build/80754af9/six_1644875935023/work\n",
      "soupsieve @ file:///tmp/build/80754af9/soupsieve_1636706018808/work\n",
      "stack-data @ file:///opt/conda/conda-bld/stack_data_1646927590127/work\n",
      "statsmodels==0.13.2\n",
      "terminado @ file:///opt/concourse/worker/volumes/live/1e61dc32-e381-4730-4e5e-6cfec5c3c4a5/volume/terminado_1644322614203/work\n",
      "testpath @ file:///tmp/build/80754af9/testpath_1624638946665/work\n",
      "texttable==1.6.4\n",
      "threadpoolctl==3.1.0\n",
      "tornado @ file:///opt/concourse/worker/volumes/live/2c1a63a2-006b-48ee-56b9-0cfe8b4927f9/volume/tornado_1606942321278/work\n",
      "tqdm==4.64.0\n",
      "traitlets @ file:///tmp/build/80754af9/traitlets_1636710298902/work\n",
      "typing_extensions @ file:///opt/conda/conda-bld/typing_extensions_1647553014482/work\n",
      "tzdata==2022.1\n",
      "tzlocal==4.2\n",
      "umap-learn==0.5.3\n",
      "wcwidth @ file:///Users/ktietz/demo/mc3/conda-bld/wcwidth_1629357192024/work\n",
      "webencodings==0.5.1\n",
      "wordcloud==1.8.1\n",
      "XlsxWriter==3.0.3\n",
      "zarr==2.11.3\n",
      "Note: you may need to restart the kernel to use updated packages.\n"
     ]
    }
   ],
   "source": [
    "pip freeze"
   ]
  },
  {
   "cell_type": "code",
   "execution_count": null,
   "id": "7f7ca771",
   "metadata": {},
   "outputs": [],
   "source": []
  }
 ],
 "metadata": {
  "kernelspec": {
   "display_name": "Python 3 (ipykernel)",
   "language": "python",
   "name": "python3"
  },
  "language_info": {
   "codemirror_mode": {
    "name": "ipython",
    "version": 3
   },
   "file_extension": ".py",
   "mimetype": "text/x-python",
   "name": "python",
   "nbconvert_exporter": "python",
   "pygments_lexer": "ipython3",
   "version": "3.9.12"
  }
 },
 "nbformat": 4,
 "nbformat_minor": 5
}
