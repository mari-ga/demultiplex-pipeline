{
 "cells": [
  {
   "cell_type": "markdown",
   "id": "5e9b10ea",
   "metadata": {},
   "source": [
    "<h1> Processing and Visualisation of results </h1>"
   ]
  },
  {
   "cell_type": "code",
   "execution_count": 1,
   "id": "24eee2ad",
   "metadata": {},
   "outputs": [],
   "source": [
    "import pandas as pd\n",
    "import matplotlib.pyplot as plt\n",
    "import numpy as np\n",
    "from collections import defaultdict"
   ]
  },
  {
   "cell_type": "code",
   "execution_count": 3,
   "id": "603370e9",
   "metadata": {},
   "outputs": [],
   "source": [
    "hto_results = pd.read_csv(\"/Users/mylenemarianagonzalesandre/Development/Bachelor-Thesis/demultiplex-pipeline/results/results.csv\")"
   ]
  },
  {
   "cell_type": "code",
   "execution_count": 4,
   "id": "c170ae85",
   "metadata": {},
   "outputs": [],
   "source": [
    "hto_results.columns = [\"hashtag\",\"classification\"]"
   ]
  },
  {
   "cell_type": "code",
   "execution_count": 5,
   "id": "51093629",
   "metadata": {},
   "outputs": [
    {
     "data": {
      "text/html": [
       "<div>\n",
       "<style scoped>\n",
       "    .dataframe tbody tr th:only-of-type {\n",
       "        vertical-align: middle;\n",
       "    }\n",
       "\n",
       "    .dataframe tbody tr th {\n",
       "        vertical-align: top;\n",
       "    }\n",
       "\n",
       "    .dataframe thead th {\n",
       "        text-align: right;\n",
       "    }\n",
       "</style>\n",
       "<table border=\"1\" class=\"dataframe\">\n",
       "  <thead>\n",
       "    <tr style=\"text-align: right;\">\n",
       "      <th></th>\n",
       "      <th>hashtag</th>\n",
       "      <th>classification</th>\n",
       "    </tr>\n",
       "  </thead>\n",
       "  <tbody>\n",
       "    <tr>\n",
       "      <th>0</th>\n",
       "      <td>AGGCCACAGCGTCTAT</td>\n",
       "      <td>Singlet</td>\n",
       "    </tr>\n",
       "    <tr>\n",
       "      <th>1</th>\n",
       "      <td>ATTGGTGAGTTCGCAT</td>\n",
       "      <td>Doublet</td>\n",
       "    </tr>\n",
       "    <tr>\n",
       "      <th>2</th>\n",
       "      <td>GTGCAGCTCAGTCCCT</td>\n",
       "      <td>Singlet</td>\n",
       "    </tr>\n",
       "    <tr>\n",
       "      <th>3</th>\n",
       "      <td>TAGTTGGGTCATACTG</td>\n",
       "      <td>Singlet</td>\n",
       "    </tr>\n",
       "    <tr>\n",
       "      <th>4</th>\n",
       "      <td>TTCTTAGAGAAGGCCT</td>\n",
       "      <td>Singlet</td>\n",
       "    </tr>\n",
       "  </tbody>\n",
       "</table>\n",
       "</div>"
      ],
      "text/plain": [
       "            hashtag classification\n",
       "0  AGGCCACAGCGTCTAT        Singlet\n",
       "1  ATTGGTGAGTTCGCAT        Doublet\n",
       "2  GTGCAGCTCAGTCCCT        Singlet\n",
       "3  TAGTTGGGTCATACTG        Singlet\n",
       "4  TTCTTAGAGAAGGCCT        Singlet"
      ]
     },
     "execution_count": 5,
     "metadata": {},
     "output_type": "execute_result"
    }
   ],
   "source": [
    "hto_results.head()"
   ]
  },
  {
   "cell_type": "code",
   "execution_count": 13,
   "metadata": {},
   "outputs": [
    {
     "data": {
      "text/plain": [
       "AGGCCACAGCGTCTAT    1\n",
       "TGGGCGTGTTATCCGA    1\n",
       "ATTACTCGTCTTGATG    1\n",
       "CAGCTAACACAGCGTC    1\n",
       "GACGTGCGTTTCCACC    1\n",
       "                   ..\n",
       "CCTAGCTTCTGCTGCT    1\n",
       "GTGTGCGGTTTGTTTC    1\n",
       "CCTTACGCAACACGCC    1\n",
       "CCGGTAGGTGCAGACA    1\n",
       "AGCGTCGGTCCAGTAT    1\n",
       "Name: hashtag, Length: 16916, dtype: int64"
      ]
     },
     "execution_count": 13,
     "metadata": {},
     "output_type": "execute_result"
    }
   ],
   "source": [
    "ids = hto_results['hashtag'].value_counts()\n",
    "ids"
   ]
  },
  {
   "cell_type": "code",
   "execution_count": 14,
   "id": "3018110f",
   "metadata": {},
   "outputs": [],
   "source": [
    "htoDemul = hto_results['classification'].value_counts()"
   ]
  },
  {
   "cell_type": "code",
   "execution_count": 15,
   "id": "3e71cbb6",
   "metadata": {},
   "outputs": [],
   "source": [
    "htoDemul_dict = htoDemul.to_dict()\n"
   ]
  },
  {
   "cell_type": "code",
   "execution_count": 16,
   "id": "f3746170",
   "metadata": {},
   "outputs": [
    {
     "data": {
      "text/plain": [
       "{'Singlet': 13900, 'Doublet': 2433, 'Negative': 583, 'Algorithm': 'HTODemul'}"
      ]
     },
     "execution_count": 16,
     "metadata": {},
     "output_type": "execute_result"
    }
   ],
   "source": [
    "htoDemul_dict['Algorithm'] = \"HTODemul\"\n",
    "htoDemul_dict"
   ]
  },
  {
   "cell_type": "code",
   "execution_count": 17,
   "id": "70b23c4e",
   "metadata": {},
   "outputs": [],
   "source": [
    "multi_results = pd.read_csv(\"/Users/mylenemarianagonzalesandre/Development/Bachelor-Thesis/demultiplex-pipeline/results/multiseq-result.csv\")"
   ]
  },
  {
   "cell_type": "code",
   "execution_count": 18,
   "id": "87da61ea",
   "metadata": {},
   "outputs": [],
   "source": [
    "multi_results.columns = [\"hashtag\",\"classification\"]"
   ]
  },
  {
   "cell_type": "code",
   "execution_count": 19,
   "id": "44aa2103",
   "metadata": {},
   "outputs": [
    {
     "data": {
      "text/html": [
       "<div>\n",
       "<style scoped>\n",
       "    .dataframe tbody tr th:only-of-type {\n",
       "        vertical-align: middle;\n",
       "    }\n",
       "\n",
       "    .dataframe tbody tr th {\n",
       "        vertical-align: top;\n",
       "    }\n",
       "\n",
       "    .dataframe thead th {\n",
       "        text-align: right;\n",
       "    }\n",
       "</style>\n",
       "<table border=\"1\" class=\"dataframe\">\n",
       "  <thead>\n",
       "    <tr style=\"text-align: right;\">\n",
       "      <th></th>\n",
       "      <th>hashtag</th>\n",
       "      <th>classification</th>\n",
       "    </tr>\n",
       "  </thead>\n",
       "  <tbody>\n",
       "    <tr>\n",
       "      <th>0</th>\n",
       "      <td>AGGCCACAGCGTCTAT</td>\n",
       "      <td>HTO-H</td>\n",
       "    </tr>\n",
       "    <tr>\n",
       "      <th>1</th>\n",
       "      <td>ATTGGTGAGTTCGCAT</td>\n",
       "      <td>Doublet</td>\n",
       "    </tr>\n",
       "    <tr>\n",
       "      <th>2</th>\n",
       "      <td>GTGCAGCTCAGTCCCT</td>\n",
       "      <td>HTO-H</td>\n",
       "    </tr>\n",
       "    <tr>\n",
       "      <th>3</th>\n",
       "      <td>TAGTTGGGTCATACTG</td>\n",
       "      <td>HTO-H</td>\n",
       "    </tr>\n",
       "    <tr>\n",
       "      <th>4</th>\n",
       "      <td>TTCTTAGAGAAGGCCT</td>\n",
       "      <td>HTO-D</td>\n",
       "    </tr>\n",
       "    <tr>\n",
       "      <th>...</th>\n",
       "      <td>...</td>\n",
       "      <td>...</td>\n",
       "    </tr>\n",
       "    <tr>\n",
       "      <th>16911</th>\n",
       "      <td>AGCGTCGAGTGGGATC</td>\n",
       "      <td>Doublet</td>\n",
       "    </tr>\n",
       "    <tr>\n",
       "      <th>16912</th>\n",
       "      <td>AACACGTGTAGCCTCG</td>\n",
       "      <td>Doublet</td>\n",
       "    </tr>\n",
       "    <tr>\n",
       "      <th>16913</th>\n",
       "      <td>AGCGTCGAGGGCTTCC</td>\n",
       "      <td>Doublet</td>\n",
       "    </tr>\n",
       "    <tr>\n",
       "      <th>16914</th>\n",
       "      <td>GTCGGGTAGCATGGCA</td>\n",
       "      <td>Doublet</td>\n",
       "    </tr>\n",
       "    <tr>\n",
       "      <th>16915</th>\n",
       "      <td>AGCGTCGGTCCAGTAT</td>\n",
       "      <td>Doublet</td>\n",
       "    </tr>\n",
       "  </tbody>\n",
       "</table>\n",
       "<p>16916 rows × 2 columns</p>\n",
       "</div>"
      ],
      "text/plain": [
       "                hashtag classification\n",
       "0      AGGCCACAGCGTCTAT          HTO-H\n",
       "1      ATTGGTGAGTTCGCAT        Doublet\n",
       "2      GTGCAGCTCAGTCCCT          HTO-H\n",
       "3      TAGTTGGGTCATACTG          HTO-H\n",
       "4      TTCTTAGAGAAGGCCT          HTO-D\n",
       "...                 ...            ...\n",
       "16911  AGCGTCGAGTGGGATC        Doublet\n",
       "16912  AACACGTGTAGCCTCG        Doublet\n",
       "16913  AGCGTCGAGGGCTTCC        Doublet\n",
       "16914  GTCGGGTAGCATGGCA        Doublet\n",
       "16915  AGCGTCGGTCCAGTAT        Doublet\n",
       "\n",
       "[16916 rows x 2 columns]"
      ]
     },
     "execution_count": 19,
     "metadata": {},
     "output_type": "execute_result"
    }
   ],
   "source": [
    "multi_results"
   ]
  },
  {
   "cell_type": "code",
   "execution_count": 20,
   "id": "64846a48",
   "metadata": {},
   "outputs": [],
   "source": [
    "multiseq = multi_results['classification'].value_counts()"
   ]
  },
  {
   "cell_type": "code",
   "execution_count": 21,
   "id": "4d6a02f3",
   "metadata": {},
   "outputs": [
    {
     "data": {
      "text/plain": [
       "Doublet    5633\n",
       "HTO-D      1703\n",
       "HTO-B      1668\n",
       "HTO-G      1572\n",
       "HTO-H      1434\n",
       "HTO-E      1268\n",
       "HTO-C      1253\n",
       "HTO-F      1235\n",
       "HTO-A      1150\n",
       "Name: classification, dtype: int64"
      ]
     },
     "execution_count": 21,
     "metadata": {},
     "output_type": "execute_result"
    }
   ],
   "source": [
    "multiseq"
   ]
  },
  {
   "cell_type": "code",
   "execution_count": 22,
   "id": "71822e3e",
   "metadata": {},
   "outputs": [
    {
     "data": {
      "text/plain": [
       "AGGCCACAGCGTCTAT    1\n",
       "TGGGCGTGTTATCCGA    1\n",
       "ATTACTCGTCTTGATG    1\n",
       "CAGCTAACACAGCGTC    1\n",
       "GACGTGCGTTTCCACC    1\n",
       "                   ..\n",
       "CCTAGCTTCTGCTGCT    1\n",
       "GTGTGCGGTTTGTTTC    1\n",
       "CCTTACGCAACACGCC    1\n",
       "CCGGTAGGTGCAGACA    1\n",
       "AGCGTCGGTCCAGTAT    1\n",
       "Name: hashtag, Length: 16916, dtype: int64"
      ]
     },
     "execution_count": 22,
     "metadata": {},
     "output_type": "execute_result"
    }
   ],
   "source": [
    "ids_2 = multi_results['hashtag'].value_counts()\n",
    "ids_2"
   ]
  },
  {
   "cell_type": "code",
   "execution_count": 36,
   "id": "2fe072c1",
   "metadata": {},
   "outputs": [],
   "source": [
    "multiseq_res_dict = multiseq.to_dict()"
   ]
  },
  {
   "cell_type": "code",
   "execution_count": 37,
   "id": "187a83e6",
   "metadata": {},
   "outputs": [
    {
     "data": {
      "text/plain": [
       "{'Doublet': 5633,\n",
       " 'HTO-D': 1703,\n",
       " 'HTO-B': 1668,\n",
       " 'HTO-G': 1572,\n",
       " 'HTO-H': 1434,\n",
       " 'HTO-E': 1268,\n",
       " 'HTO-C': 1253,\n",
       " 'HTO-F': 1235,\n",
       " 'HTO-A': 1150}"
      ]
     },
     "execution_count": 37,
     "metadata": {},
     "output_type": "execute_result"
    }
   ],
   "source": [
    "multiseq_res_dict "
   ]
  },
  {
   "cell_type": "code",
   "execution_count": 38,
   "id": "9c245d3b",
   "metadata": {},
   "outputs": [
    {
     "name": "stderr",
     "output_type": "stream",
     "text": [
      "/var/folders/10/sfmvfl9139b7z3wwbq1j88gr0000gn/T/ipykernel_6150/599037296.py:1: DeprecationWarning: Calling np.sum(generator) is deprecated, and in the future will give a different result. Use np.sum(np.fromiter(generator)) or the python sum builtin instead.\n",
      "  multi_singlets = np.sum(value for key, value in multiseq_res_dict.items() if key != 'Doublet')\n"
     ]
    }
   ],
   "source": [
    "multi_singlets = np.sum(value for key, value in multiseq_res_dict.items() if key != 'Doublet')"
   ]
  },
  {
   "cell_type": "code",
   "execution_count": 39,
   "id": "17788856",
   "metadata": {},
   "outputs": [],
   "source": [
    "multiseq_dict = dict()\n",
    "multiseq_dict['Singlet'] = multi_singlets"
   ]
  },
  {
   "cell_type": "code",
   "execution_count": 40,
   "id": "02bc42d3",
   "metadata": {},
   "outputs": [],
   "source": [
    "multiseq_dict['Doublet'] = multiseq_res_dict['Doublet']"
   ]
  },
  {
   "cell_type": "code",
   "execution_count": 41,
   "id": "657572a5",
   "metadata": {},
   "outputs": [],
   "source": [
    "multiseq_dict['Negative'] = 0"
   ]
  },
  {
   "cell_type": "code",
   "execution_count": 42,
   "id": "c05cdb70",
   "metadata": {},
   "outputs": [],
   "source": [
    "multiseq_dict['Algorithm'] = \"MULTI-Seq\""
   ]
  },
  {
   "cell_type": "code",
   "execution_count": 43,
   "id": "1ab68d11",
   "metadata": {},
   "outputs": [
    {
     "data": {
      "text/plain": [
       "{'Singlet': 11283, 'Doublet': 5633, 'Negative': 0, 'Algorithm': 'MULTI-Seq'}"
      ]
     },
     "execution_count": 43,
     "metadata": {},
     "output_type": "execute_result"
    }
   ],
   "source": [
    "multiseq_dict"
   ]
  },
  {
   "cell_type": "code",
   "execution_count": 24,
   "id": "0cf99267",
   "metadata": {},
   "outputs": [
    {
     "data": {
      "text/html": [
       "<div>\n",
       "<style scoped>\n",
       "    .dataframe tbody tr th:only-of-type {\n",
       "        vertical-align: middle;\n",
       "    }\n",
       "\n",
       "    .dataframe tbody tr th {\n",
       "        vertical-align: top;\n",
       "    }\n",
       "\n",
       "    .dataframe thead th {\n",
       "        text-align: right;\n",
       "    }\n",
       "</style>\n",
       "<table border=\"1\" class=\"dataframe\">\n",
       "  <thead>\n",
       "    <tr style=\"text-align: right;\">\n",
       "      <th></th>\n",
       "      <th>Unnamed: 0</th>\n",
       "      <th>Total</th>\n",
       "      <th>Best</th>\n",
       "      <th>Second</th>\n",
       "      <th>LogFC</th>\n",
       "      <th>LogFC2</th>\n",
       "      <th>Doublet</th>\n",
       "      <th>Singlet</th>\n",
       "    </tr>\n",
       "  </thead>\n",
       "  <tbody>\n",
       "    <tr>\n",
       "      <th>0</th>\n",
       "      <td>AGGCCACAGCGTCTAT</td>\n",
       "      <td>4200</td>\n",
       "      <td>8</td>\n",
       "      <td>5</td>\n",
       "      <td>8.490503</td>\n",
       "      <td>0.580016</td>\n",
       "      <td>False</td>\n",
       "      <td>True</td>\n",
       "    </tr>\n",
       "    <tr>\n",
       "      <th>1</th>\n",
       "      <td>ATTGGTGAGTTCGCAT</td>\n",
       "      <td>3475</td>\n",
       "      <td>7</td>\n",
       "      <td>8</td>\n",
       "      <td>1.108589</td>\n",
       "      <td>4.124493</td>\n",
       "      <td>True</td>\n",
       "      <td>False</td>\n",
       "    </tr>\n",
       "    <tr>\n",
       "      <th>2</th>\n",
       "      <td>GTGCAGCTCAGTCCCT</td>\n",
       "      <td>1211</td>\n",
       "      <td>8</td>\n",
       "      <td>3</td>\n",
       "      <td>4.443640</td>\n",
       "      <td>1.908259</td>\n",
       "      <td>False</td>\n",
       "      <td>True</td>\n",
       "    </tr>\n",
       "    <tr>\n",
       "      <th>3</th>\n",
       "      <td>TAGTTGGGTCATACTG</td>\n",
       "      <td>955</td>\n",
       "      <td>8</td>\n",
       "      <td>4</td>\n",
       "      <td>4.728427</td>\n",
       "      <td>0.766317</td>\n",
       "      <td>False</td>\n",
       "      <td>True</td>\n",
       "    </tr>\n",
       "    <tr>\n",
       "      <th>4</th>\n",
       "      <td>TTCTTAGAGAAGGCCT</td>\n",
       "      <td>1912</td>\n",
       "      <td>4</td>\n",
       "      <td>2</td>\n",
       "      <td>5.561770</td>\n",
       "      <td>0.973143</td>\n",
       "      <td>False</td>\n",
       "      <td>True</td>\n",
       "    </tr>\n",
       "  </tbody>\n",
       "</table>\n",
       "</div>"
      ],
      "text/plain": [
       "         Unnamed: 0  Total  Best  Second     LogFC    LogFC2  Doublet  Singlet\n",
       "0  AGGCCACAGCGTCTAT   4200     8       5  8.490503  0.580016    False     True\n",
       "1  ATTGGTGAGTTCGCAT   3475     7       8  1.108589  4.124493     True    False\n",
       "2  GTGCAGCTCAGTCCCT   1211     8       3  4.443640  1.908259    False     True\n",
       "3  TAGTTGGGTCATACTG    955     8       4  4.728427  0.766317    False     True\n",
       "4  TTCTTAGAGAAGGCCT   1912     4       2  5.561770  0.973143    False     True"
      ]
     },
     "execution_count": 24,
     "metadata": {},
     "output_type": "execute_result"
    }
   ],
   "source": [
    "hashed_drops = pd.read_csv('/Users/mylenemarianagonzalesandre/Development/Bachelor-Thesis/demultiplex-pipeline/results/HD_results.csv')\n",
    "hashed_drops=hashed_drops.rename(columns = {'Confident':'Singlet'})\n",
    "hashed_drops.head()"
   ]
  },
  {
   "cell_type": "code",
   "execution_count": 25,
   "id": "f1241ca0",
   "metadata": {},
   "outputs": [],
   "source": [
    "#Confident = Singlet\n",
    "#Doublet -> True\n",
    "#Comparar las columnas buscando negativos para encontrar negativos\n",
    "#simplemente resta el total entre estos 2 del total total y tienes los negativos\n",
    "drops_count_singlets = hashed_drops['Singlet'].value_counts()\n",
    "drops_count_doublets = hashed_drops['Doublet'].value_counts()"
   ]
  },
  {
   "cell_type": "code",
   "execution_count": 26,
   "id": "224c5c6c",
   "metadata": {},
   "outputs": [
    {
     "data": {
      "text/plain": [
       "True     14105\n",
       "False     2811\n",
       "Name: Singlet, dtype: int64"
      ]
     },
     "execution_count": 26,
     "metadata": {},
     "output_type": "execute_result"
    }
   ],
   "source": [
    "drops_count_singlets"
   ]
  },
  {
   "cell_type": "code",
   "execution_count": 27,
   "id": "48b852c4",
   "metadata": {},
   "outputs": [
    {
     "data": {
      "text/plain": [
       "False    14442\n",
       "True      2474\n",
       "Name: Doublet, dtype: int64"
      ]
     },
     "execution_count": 27,
     "metadata": {},
     "output_type": "execute_result"
    }
   ],
   "source": [
    "drops_count_doublets\n"
   ]
  },
  {
   "cell_type": "code",
   "execution_count": 34,
   "id": "96557282",
   "metadata": {},
   "outputs": [
    {
     "data": {
      "text/plain": [
       "337"
      ]
     },
     "execution_count": 34,
     "metadata": {},
     "output_type": "execute_result"
    }
   ],
   "source": [
    "drops_count_singlets.to_dict()\n",
    "drops_count_doublets.to_dict()\n",
    "b= drops_count_singlets[True] + drops_count_singlets[False]\n",
    "a = drops_count_singlets[True]+drops_count_doublets[True]\n",
    "c = b - a\n",
    "c\n",
    "#Necesito crear un dict que contenga los 3, neg doub, sing"
   ]
  },
  {
   "cell_type": "code",
   "execution_count": 44,
   "id": "d2b6b1f3",
   "metadata": {},
   "outputs": [],
   "source": [
    "drop_dict = dict()\n",
    "drop_dict['Singlet'] = drops_count_singlets[True]\n",
    "drop_dict['Doublet'] = drops_count_doublets[True]\n",
    "drop_dict['Negative'] = c\n",
    "drop_dict['Algorithm'] = 'Hashed Drops'"
   ]
  },
  {
   "cell_type": "code",
   "execution_count": null,
   "id": "20cf88ef",
   "metadata": {},
   "outputs": [],
   "source": []
  },
  {
   "cell_type": "code",
   "execution_count": 45,
   "id": "9179df74",
   "metadata": {},
   "outputs": [
    {
     "name": "stdout",
     "output_type": "stream",
     "text": [
      "defaultdict(<class 'list'>, {'Singlet': [13900, 11283, 14105], 'Doublet': [2433, 5633, 2474], 'Negative': [583, 0, 337], 'Algorithm': ['HTODemul', 'MULTI-Seq', 'Hashed Drops']})\n"
     ]
    }
   ],
   "source": [
    "dd = defaultdict(list)\n",
    "for d in (htoDemul_dict, multiseq_dict,drop_dict): # you can list as many input dicts as you want here\n",
    "    for key, value in d.items():\n",
    "        dd[key].append(value)\n",
    "\n",
    "print(dd)"
   ]
  },
  {
   "cell_type": "code",
   "execution_count": 46,
   "id": "67ebf524",
   "metadata": {},
   "outputs": [
    {
     "data": {
      "text/plain": [
       "{'Singlet': [13900, 11283, 14105],\n",
       " 'Doublet': [2433, 5633, 2474],\n",
       " 'Negative': [583, 0, 337],\n",
       " 'Algorithm': ['HTODemul', 'MULTI-Seq', 'Hashed Drops']}"
      ]
     },
     "execution_count": 46,
     "metadata": {},
     "output_type": "execute_result"
    }
   ],
   "source": [
    "dict(dd)"
   ]
  },
  {
   "cell_type": "code",
   "execution_count": 47,
   "id": "3264b514",
   "metadata": {},
   "outputs": [
    {
     "data": {
      "text/plain": [
       "True"
      ]
     },
     "execution_count": 47,
     "metadata": {},
     "output_type": "execute_result"
    }
   ],
   "source": [
    "bool(dict(dd))"
   ]
  },
  {
   "cell_type": "code",
   "execution_count": 48,
   "id": "cf614369",
   "metadata": {},
   "outputs": [],
   "source": [
    "dfObj = pd.DataFrame(dict(dd))"
   ]
  },
  {
   "cell_type": "code",
   "execution_count": 49,
   "id": "1947a907",
   "metadata": {},
   "outputs": [
    {
     "data": {
      "text/html": [
       "<div>\n",
       "<style scoped>\n",
       "    .dataframe tbody tr th:only-of-type {\n",
       "        vertical-align: middle;\n",
       "    }\n",
       "\n",
       "    .dataframe tbody tr th {\n",
       "        vertical-align: top;\n",
       "    }\n",
       "\n",
       "    .dataframe thead th {\n",
       "        text-align: right;\n",
       "    }\n",
       "</style>\n",
       "<table border=\"1\" class=\"dataframe\">\n",
       "  <thead>\n",
       "    <tr style=\"text-align: right;\">\n",
       "      <th></th>\n",
       "      <th>Singlet</th>\n",
       "      <th>Doublet</th>\n",
       "      <th>Negative</th>\n",
       "      <th>Algorithm</th>\n",
       "    </tr>\n",
       "  </thead>\n",
       "  <tbody>\n",
       "    <tr>\n",
       "      <th>0</th>\n",
       "      <td>13900</td>\n",
       "      <td>2433</td>\n",
       "      <td>583</td>\n",
       "      <td>HTODemul</td>\n",
       "    </tr>\n",
       "    <tr>\n",
       "      <th>1</th>\n",
       "      <td>11283</td>\n",
       "      <td>5633</td>\n",
       "      <td>0</td>\n",
       "      <td>MULTI-Seq</td>\n",
       "    </tr>\n",
       "    <tr>\n",
       "      <th>2</th>\n",
       "      <td>14105</td>\n",
       "      <td>2474</td>\n",
       "      <td>337</td>\n",
       "      <td>Hashed Drops</td>\n",
       "    </tr>\n",
       "  </tbody>\n",
       "</table>\n",
       "</div>"
      ],
      "text/plain": [
       "   Singlet  Doublet  Negative     Algorithm\n",
       "0    13900     2433       583      HTODemul\n",
       "1    11283     5633         0     MULTI-Seq\n",
       "2    14105     2474       337  Hashed Drops"
      ]
     },
     "execution_count": 49,
     "metadata": {},
     "output_type": "execute_result"
    }
   ],
   "source": [
    "dfObj"
   ]
  },
  {
   "cell_type": "code",
   "execution_count": 50,
   "id": "73f41c67",
   "metadata": {},
   "outputs": [
    {
     "data": {
      "text/plain": [
       "<AxesSubplot:title={'center':'Hashing Demultiplexing per algorithm'}, xlabel='Algorithm'>"
      ]
     },
     "execution_count": 50,
     "metadata": {},
     "output_type": "execute_result"
    },
    {
     "data": {
      "image/png": "[encoded data removed]",
      "text/plain": [
       "<Figure size 1080x720 with 1 Axes>"
      ]
     },
     "metadata": {
      "needs_background": "light"
     },
     "output_type": "display_data"
    }
   ],
   "source": [
    "dfObj.plot.bar(x='Algorithm', stacked=True,color=[\"#DA4167\",\"#E2B1B1\",\"#258EA6\"], title='Hashing Demultiplexing per algorithm',figsize=(15, 10))\n"
   ]
  },
  {
   "cell_type": "code",
   "execution_count": null,
   "id": "7f7ca771",
   "metadata": {},
   "outputs": [],
   "source": []
  }
 ],
 "metadata": {
  "interpreter": {
   "hash": "b350122b499f0d3c4a3ca61f36ca9d476f0067994eb2fb5b92b0d8496b9dc200"
  },
  "kernelspec": {
   "display_name": "Python 3.9.12 ('demul')",
   "language": "python",
   "name": "python3"
  },
  "language_info": {
   "codemirror_mode": {
    "name": "ipython",
    "version": 3
   },
   "file_extension": ".py",
   "mimetype": "text/x-python",
   "name": "python",
   "nbconvert_exporter": "python",
   "pygments_lexer": "ipython3",
   "version": "3.9.12"
  }
 },
 "nbformat": 4,
 "nbformat_minor": 5
}
